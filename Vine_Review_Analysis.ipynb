{
  "nbformat": 4,
  "nbformat_minor": 0,
  "metadata": {
    "colab": {
      "name": "Vine_Review_Analysis.ipynb",
      "provenance": []
    },
    "kernelspec": {
      "name": "python3",
      "display_name": "Python 3"
    },
    "language_info": {
      "name": "python"
    }
  },
  "cells": [
    {
      "cell_type": "code",
      "metadata": {
        "colab": {
          "base_uri": "https://localhost:8080/"
        },
        "id": "rd4SF6vb7xv2",
        "outputId": "02838bed-e55a-43ec-dc1c-11730cb2ee81"
      },
      "source": [
        "import os\n",
        "# Find the latest version of spark 2.0  from http://www-us.apache.org/dist/spark/ and enter as the spark version\n",
        "# For example:\n",
        "# spark_version = 'spark-3.0.0'\n",
        "spark_version = 'spark-3.1.1'\n",
        "os.environ['SPARK_VERSION']=spark_version\n",
        "\n",
        "# Install Spark and Java\n",
        "!apt-get update\n",
        "!apt-get install openjdk-11-jdk-headless -qq > /dev/null\n",
        "!wget -q http://www-us.apache.org/dist/spark/$SPARK_VERSION/$SPARK_VERSION-bin-hadoop2.7.tgz\n",
        "!tar xf $SPARK_VERSION-bin-hadoop2.7.tgz\n",
        "!pip install -q findspark\n",
        "\n",
        "# Set Environment Variables\n",
        "import os\n",
        "os.environ[\"JAVA_HOME\"] = \"/usr/lib/jvm/java-11-openjdk-amd64\"\n",
        "os.environ[\"SPARK_HOME\"] = f\"/content/{spark_version}-bin-hadoop2.7\"\n",
        "\n",
        "# Start a SparkSession\n",
        "import findspark\n",
        "findspark.init()"
      ],
      "execution_count": 1,
      "outputs": [
        {
          "output_type": "stream",
          "text": [
            "\r0% [Working]\r            \rHit:1 http://ppa.launchpad.net/c2d4u.team/c2d4u4.0+/ubuntu bionic InRelease\n",
            "\r0% [Waiting for headers] [Connecting to security.ubuntu.com (91.189.91.39)] [Co\r                                                                               \rHit:2 http://archive.ubuntu.com/ubuntu bionic InRelease\n",
            "\r0% [Waiting for headers] [Connecting to security.ubuntu.com (91.189.91.39)] [Co\r0% [1 InRelease gpgv 15.9 kB] [Waiting for headers] [Connecting to security.ubu\r                                                                               \rHit:3 http://ppa.launchpad.net/cran/libgit2/ubuntu bionic InRelease\n",
            "\r0% [1 InRelease gpgv 15.9 kB] [Waiting for headers] [Connecting to security.ubu\r                                                                               \rGet:4 http://archive.ubuntu.com/ubuntu bionic-updates InRelease [88.7 kB]\n",
            "\r0% [1 InRelease gpgv 15.9 kB] [4 InRelease 14.2 kB/88.7 kB 16%] [Connecting to \r                                                                               \rHit:5 https://cloud.r-project.org/bin/linux/ubuntu bionic-cran40/ InRelease\n",
            "\r0% [1 InRelease gpgv 15.9 kB] [4 InRelease 14.2 kB/88.7 kB 16%] [Connecting to \r                                                                               \rHit:6 http://ppa.launchpad.net/deadsnakes/ppa/ubuntu bionic InRelease\n",
            "\r0% [1 InRelease gpgv 15.9 kB] [4 InRelease 46.0 kB/88.7 kB 52%] [Connecting to \r                                                                               \rHit:7 http://ppa.launchpad.net/graphics-drivers/ppa/ubuntu bionic InRelease\n",
            "\r0% [1 InRelease gpgv 15.9 kB] [4 InRelease 70.7 kB/88.7 kB 80%] [Waiting for he\r                                                                               \r0% [1 InRelease gpgv 15.9 kB] [Waiting for headers] [Waiting for headers]\r                                                                         \rGet:8 http://archive.ubuntu.com/ubuntu bionic-backports InRelease [74.6 kB]\n",
            "\r0% [1 InRelease gpgv 15.9 kB] [8 InRelease 2,601 B/74.6 kB 3%] [Waiting for hea\r                                                                               \r0% [1 InRelease gpgv 15.9 kB] [Waiting for headers] [Waiting for headers]\r                                                                         \rGet:9 http://security.ubuntu.com/ubuntu bionic-security InRelease [88.7 kB]\n",
            "Ign:10 https://developer.download.nvidia.com/compute/cuda/repos/ubuntu1804/x86_64  InRelease\n",
            "Ign:11 https://developer.download.nvidia.com/compute/machine-learning/repos/ubuntu1804/x86_64  InRelease\n",
            "Hit:12 https://developer.download.nvidia.com/compute/cuda/repos/ubuntu1804/x86_64  Release\n",
            "Hit:13 https://developer.download.nvidia.com/compute/machine-learning/repos/ubuntu1804/x86_64  Release\n",
            "Fetched 252 kB in 2s (107 kB/s)\n",
            "Reading package lists... Done\n"
          ],
          "name": "stdout"
        }
      ]
    },
    {
      "cell_type": "code",
      "metadata": {
        "id": "tcV-G4v69UOE"
      },
      "source": [
        "from pyspark.sql import SparkSession\n",
        "spark = SparkSession.builder.appName(\"BigData-Challenge\").config(\"spark.driver.extraClassPath\",\"/content/postgresql-42.2.16.jar\").getOrCreate()"
      ],
      "execution_count": 2,
      "outputs": []
    },
    {
      "cell_type": "code",
      "metadata": {
        "colab": {
          "base_uri": "https://localhost:8080/"
        },
        "id": "Se6m50cm9WRw",
        "outputId": "6fa40a68-4a9a-4850-8b23-b86a14e070f0"
      },
      "source": [
        "from pyspark import SparkFiles\n",
        "from pyspark.sql.functions import to_date\n",
        "# Read in the Review dataset as a DataFrame\n",
        "url = \"https://s3.amazonaws.com/amazon-reviews-pds/tsv/amazon_reviews_us_Musical_Instruments_v1_00.tsv.gz\"\n",
        "spark.sparkContext.addFile(url)\n",
        "df = spark.read.option(\"encoding\", \"UTF-8\").csv(SparkFiles.get(\"\"), sep=\"\\t\", header=True, inferSchema=True)\n",
        "df.show()"
      ],
      "execution_count": 3,
      "outputs": [
        {
          "output_type": "stream",
          "text": [
            "+-----------+-----------+--------------+----------+--------------+--------------------+-------------------+-----------+-------------+-----------+----+-----------------+--------------------+--------------------+-----------+\n",
            "|marketplace|customer_id|     review_id|product_id|product_parent|       product_title|   product_category|star_rating|helpful_votes|total_votes|vine|verified_purchase|     review_headline|         review_body|review_date|\n",
            "+-----------+-----------+--------------+----------+--------------+--------------------+-------------------+-----------+-------------+-----------+----+-----------------+--------------------+--------------------+-----------+\n",
            "|         US|   45610553| RMDCHWD0Y5OZ9|B00HH62VB6|     618218723|AGPtek® 10 Isolat...|Musical Instruments|          3|            0|          1|   N|                N|         Three Stars|Works very good, ...| 2015-08-31|\n",
            "|         US|   14640079| RZSL0BALIYUNU|B003LRN53I|     986692292|Sennheiser HD203 ...|Musical Instruments|          5|            0|          0|   N|                Y|          Five Stars|Nice headphones a...| 2015-08-31|\n",
            "|         US|    6111003| RIZR67JKUDBI0|B0006VMBHI|     603261968|AudioQuest LP rec...|Musical Instruments|          3|            0|          1|   N|                Y|         Three Stars|removes dust. doe...| 2015-08-31|\n",
            "|         US|    1546619|R27HL570VNL85F|B002B55TRG|     575084461|Hohner Inc. 560BX...|Musical Instruments|          5|            0|          0|   N|                Y|I purchase these ...|I purchase these ...| 2015-08-31|\n",
            "|         US|   12222213|R34EBU9QDWJ1GD|B00N1YPXW2|     165236328|Blue Yeti USB Mic...|Musical Instruments|          5|            0|          0|   N|                Y|          Five Stars|This is an awesom...| 2015-08-31|\n",
            "|         US|   46018513|R1WCUI4Z1SIQEO|B001N4GRGS|     134151483|Middle Atlantic P...|Musical Instruments|          5|            0|          0|   N|                N|          Five Stars|Used to cool equi...| 2015-08-31|\n",
            "|         US|   10225065| RL5LNO26GAVJ1|B009PJRMHQ|     694166585|Kmise 1pc Pickgua...|Musical Instruments|          2|            3|          4|   N|                Y|Will not Fit Epip...|Note- Does not Fi...| 2015-08-31|\n",
            "|         US|    6356995|R3GYQ5W8JHP8SB|B00NKBDAZS|     446431775|Kealoha Concert U...|Musical Instruments|          5|            0|          0|   N|                Y|          Five Stars|Well built Ukulel...| 2015-08-31|\n",
            "|         US|   35297198|R30SHYQXGG5EYC|B006MIU7U2|     125871705|Halco 80000 - MR1...|Musical Instruments|          5|            0|          0|   N|                Y|Works fine. Hope ...|Had to replace a ...| 2015-08-31|\n",
            "|         US|   32139520|R14YLXA56NP51I|B000FIBD0I|     771888534|Gator GPTBLACK Pl...|Musical Instruments|          5|            1|          1|   N|                N|I upgraded the po...|I've owned multip...| 2015-08-31|\n",
            "|         US|   36060782|R1ZH0HSH38IOTZ|B0002E52GG|      68535945|Hetman 1 - Light ...|Musical Instruments|          5|            0|          0|   N|                Y|My son's favourit...|Consistent qualit...| 2015-08-31|\n",
            "|         US|    5301309|R3H53KLLC210XI|B00RZIH52G|     725541773|Dragonpad pop fil...|Musical Instruments|          4|            0|          0|   N|                Y|Great pop filter ...|by far the best p...| 2015-08-31|\n",
            "|         US|   37472935|R3OOR877NGA8JK|B001792BAU|      46570323|DharmaObjects Rel...|Musical Instruments|          3|            0|          0|   N|                Y|                  Ok|Beautiful set. On...| 2015-08-31|\n",
            "|         US|   33578270|R1BY7WKOZ3KMH0|B009GSKW1Y|     547963417|Musiclily SSS Pla...|Musical Instruments|          2|            0|          0|   N|                Y|           Two Stars|Bridge pickup was...| 2015-08-31|\n",
            "|         US|   22070226| RXP1TFSWE8EG9|B0002F4TKA|     436074323|Vic Firth America...|Musical Instruments|          5|            0|          0|   N|                Y|          Five Stars|Feels good and la...| 2015-08-31|\n",
            "|         US|   52862655|R3J44DPP12OTLJ|B00K17YFBW|      81933093|Guitar Stand for ...|Musical Instruments|          5|            0|          0|   N|                Y|Great stand... on...|I love the stand....| 2015-08-31|\n",
            "|         US|    4427243| RFOV69SK0T676|B00EQ24HJS|     669249276|Generic 3PLY Faux...|Musical Instruments|          5|            0|          0|   N|                Y|Looks great. You ...|On time. Looks gr...| 2015-08-31|\n",
            "|         US|   14108571|R2HUWDNW62FOL3|B00IBOYTUE|     749537231|Audio 2000 6525 3...|Musical Instruments|          1|            0|          0|   N|                Y|  Poor sound quality|I was hoping it w...| 2015-08-31|\n",
            "|         US|   27314089|R1KSU30XZGR452|B00FBRUSAE|     792472601|Sawtooth ST-AMP-1...|Musical Instruments|          5|            0|          0|   N|                Y|Perfect for the b...|Good sound for it...| 2015-08-31|\n",
            "|         US|   16735445|R2TZVLLTSHA07N|B0113D2QUO|     269114019|Upado Unlimited G...|Musical Instruments|          5|            1|          1|   N|                Y|It really is a mu...|Wow! I didn't exp...| 2015-08-31|\n",
            "+-----------+-----------+--------------+----------+--------------+--------------------+-------------------+-----------+-------------+-----------+----+-----------------+--------------------+--------------------+-----------+\n",
            "only showing top 20 rows\n",
            "\n"
          ],
          "name": "stdout"
        }
      ]
    },
    {
      "cell_type": "code",
      "metadata": {
        "colab": {
          "base_uri": "https://localhost:8080/"
        },
        "id": "6XEXDLCQ9X_Q",
        "outputId": "1f9a5133-677a-4225-d4c7-2cbf9854d582"
      },
      "source": [
        "# Create the vine_table. DataFrame\n",
        "vine_df = df.select([\"review_id\",\"star_rating\",\"helpful_votes\",\"vine\",\"verified_purchase\"])\n",
        "vine_df.show()"
      ],
      "execution_count": 4,
      "outputs": [
        {
          "output_type": "stream",
          "text": [
            "+--------------+-----------+-------------+----+-----------------+\n",
            "|     review_id|star_rating|helpful_votes|vine|verified_purchase|\n",
            "+--------------+-----------+-------------+----+-----------------+\n",
            "| RMDCHWD0Y5OZ9|          3|            0|   N|                N|\n",
            "| RZSL0BALIYUNU|          5|            0|   N|                Y|\n",
            "| RIZR67JKUDBI0|          3|            0|   N|                Y|\n",
            "|R27HL570VNL85F|          5|            0|   N|                Y|\n",
            "|R34EBU9QDWJ1GD|          5|            0|   N|                Y|\n",
            "|R1WCUI4Z1SIQEO|          5|            0|   N|                N|\n",
            "| RL5LNO26GAVJ1|          2|            3|   N|                Y|\n",
            "|R3GYQ5W8JHP8SB|          5|            0|   N|                Y|\n",
            "|R30SHYQXGG5EYC|          5|            0|   N|                Y|\n",
            "|R14YLXA56NP51I|          5|            1|   N|                N|\n",
            "|R1ZH0HSH38IOTZ|          5|            0|   N|                Y|\n",
            "|R3H53KLLC210XI|          4|            0|   N|                Y|\n",
            "|R3OOR877NGA8JK|          3|            0|   N|                Y|\n",
            "|R1BY7WKOZ3KMH0|          2|            0|   N|                Y|\n",
            "| RXP1TFSWE8EG9|          5|            0|   N|                Y|\n",
            "|R3J44DPP12OTLJ|          5|            0|   N|                Y|\n",
            "| RFOV69SK0T676|          5|            0|   N|                Y|\n",
            "|R2HUWDNW62FOL3|          1|            0|   N|                Y|\n",
            "|R1KSU30XZGR452|          5|            0|   N|                Y|\n",
            "|R2TZVLLTSHA07N|          5|            1|   N|                Y|\n",
            "+--------------+-----------+-------------+----+-----------------+\n",
            "only showing top 20 rows\n",
            "\n"
          ],
          "name": "stdout"
        }
      ]
    },
    {
      "cell_type": "code",
      "metadata": {
        "colab": {
          "base_uri": "https://localhost:8080/"
        },
        "id": "X1LMN8pe-Nmr",
        "outputId": "fee4b456-29aa-4a07-dc61-39359a8e8cfb"
      },
      "source": [
        "#step1: total votes equal to or greater than 20\n",
        "vine_df_filter1 = vine_df.filter(\"total_votes >= 20\")\n",
        "vine_df_filter1.show()"
      ],
      "execution_count": 5,
      "outputs": [
        {
          "output_type": "stream",
          "text": [
            "+--------------+-----------+-------------+----+-----------------+\n",
            "|     review_id|star_rating|helpful_votes|vine|verified_purchase|\n",
            "+--------------+-----------+-------------+----+-----------------+\n",
            "|R2243Y3OD8U6KQ|          5|           47|   N|                N|\n",
            "|R2TGT0CDTCAAHW|          5|           21|   N|                Y|\n",
            "| RX4D22YSXEF4P|          1|           37|   N|                Y|\n",
            "|R3FL2NTLFUSPTQ|          5|           33|   N|                N|\n",
            "|R3QTP3YNZXAPPF|          3|           23|   N|                Y|\n",
            "|R36V6V42VN5AS5|          5|           34|   N|                Y|\n",
            "|R27LZWE27BJPOB|          5|           22|   N|                N|\n",
            "|  RMRD6SMF2AUQ|          3|            4|   N|                N|\n",
            "| RMPCXKWX3T57Y|          1|            1|   N|                N|\n",
            "|R1P7GJ0IN2BRNH|          5|           37|   N|                Y|\n",
            "|R2R6JPF9KOD2HJ|          5|           19|   N|                Y|\n",
            "|R3JM8Z4SP9N3H2|          1|            4|   N|                N|\n",
            "|R2J0ZZGFXKM8KR|          2|           21|   N|                Y|\n",
            "|R238ZSG6TSUBNX|          5|           27|   N|                Y|\n",
            "|R37WGVXA94D62S|          2|            4|   N|                Y|\n",
            "| RC6Y8GYIQZ8YU|          3|           72|   N|                Y|\n",
            "| RFL3TJED8C240|          5|           13|   N|                N|\n",
            "|R3D4P7A8Q1C70F|          5|           22|   N|                Y|\n",
            "|R3PRNAQVQBB9M6|          1|           21|   N|                Y|\n",
            "|R2NTTIW5KBKLYG|          5|           19|   N|                N|\n",
            "+--------------+-----------+-------------+----+-----------------+\n",
            "only showing top 20 rows\n",
            "\n"
          ],
          "name": "stdout"
        }
      ]
    },
    {
      "cell_type": "code",
      "metadata": {
        "colab": {
          "base_uri": "https://localhost:8080/"
        },
        "id": "Uqfmtodd-URy",
        "outputId": "27572d13-a450-4045-b8f9-8cd7b2dfb64e"
      },
      "source": [
        "#step2: helpful_votes divided by total vote >= 50\n",
        "vine_df_filter2 = vine_df_filter1.filter(\"helpful_votes/total_votes >= 0.5\")\n",
        "vine_df_filter2.show()"
      ],
      "execution_count": 6,
      "outputs": [
        {
          "output_type": "stream",
          "text": [
            "+--------------+-----------+-------------+----+-----------------+\n",
            "|     review_id|star_rating|helpful_votes|vine|verified_purchase|\n",
            "+--------------+-----------+-------------+----+-----------------+\n",
            "|R2243Y3OD8U6KQ|          5|           47|   N|                N|\n",
            "|R2TGT0CDTCAAHW|          5|           21|   N|                Y|\n",
            "| RX4D22YSXEF4P|          1|           37|   N|                Y|\n",
            "|R3FL2NTLFUSPTQ|          5|           33|   N|                N|\n",
            "|R3QTP3YNZXAPPF|          3|           23|   N|                Y|\n",
            "|R36V6V42VN5AS5|          5|           34|   N|                Y|\n",
            "|R27LZWE27BJPOB|          5|           22|   N|                N|\n",
            "|R1P7GJ0IN2BRNH|          5|           37|   N|                Y|\n",
            "|R2R6JPF9KOD2HJ|          5|           19|   N|                Y|\n",
            "|R2J0ZZGFXKM8KR|          2|           21|   N|                Y|\n",
            "|R238ZSG6TSUBNX|          5|           27|   N|                Y|\n",
            "| RC6Y8GYIQZ8YU|          3|           72|   N|                Y|\n",
            "| RFL3TJED8C240|          5|           13|   N|                N|\n",
            "|R3D4P7A8Q1C70F|          5|           22|   N|                Y|\n",
            "|R3PRNAQVQBB9M6|          1|           21|   N|                Y|\n",
            "|R2NTTIW5KBKLYG|          5|           19|   N|                N|\n",
            "|R3JNDLZ3KACRLG|          5|           29|   N|                N|\n",
            "|R1PVVYYY0Q1HZ0|          5|           21|   N|                Y|\n",
            "|R1R9RU7JW0MFR2|          4|           20|   Y|                N|\n",
            "|R1G9N0CW2982PA|          5|           21|   N|                Y|\n",
            "+--------------+-----------+-------------+----+-----------------+\n",
            "only showing top 20 rows\n",
            "\n"
          ],
          "name": "stdout"
        }
      ]
    },
    {
      "cell_type": "code",
      "metadata": {
        "colab": {
          "base_uri": "https://localhost:8080/"
        },
        "id": "M1R2EdLa-hEQ",
        "outputId": "32d12e6f-bb7d-493e-b1ae-9cc06f09709b"
      },
      "source": [
        "#step3: review was written as part of the vine program (vine == Y)\n",
        "vine_df_paid = vine_df_filter2.filter(\"vine == 'Y'\")\n",
        "vine_df_paid.show()"
      ],
      "execution_count": 7,
      "outputs": [
        {
          "output_type": "stream",
          "text": [
            "+--------------+-----------+-------------+----+-----------------+\n",
            "|     review_id|star_rating|helpful_votes|vine|verified_purchase|\n",
            "+--------------+-----------+-------------+----+-----------------+\n",
            "|R1R9RU7JW0MFR2|          4|           20|   Y|                N|\n",
            "|R19EFYNN3W8Q07|          5|           26|   Y|                N|\n",
            "|R34DJ1R8AEU0SG|          5|           29|   Y|                N|\n",
            "|R25P5CXK5L9RHF|          5|          146|   Y|                N|\n",
            "|R2E9VZB3I4LSN5|          5|           55|   Y|                N|\n",
            "| RKYLHZL7EPELX|          4|           19|   Y|                N|\n",
            "|R1U13EKGQD3ZE6|          5|           22|   Y|                N|\n",
            "| RYW05F1MUEF01|          5|           87|   Y|                N|\n",
            "|R2SW4NXNO7HZJ5|          4|           28|   Y|                N|\n",
            "|R2016NFLSUR97Y|          2|           26|   Y|                N|\n",
            "| RFCV9QXJ3D79X|          3|           20|   Y|                N|\n",
            "|R36779ZAY4ZT0Y|          3|           46|   Y|                N|\n",
            "|R13PPTBWWV10Q6|          5|           19|   Y|                N|\n",
            "|R2A3FFNJTDUBMV|          5|           20|   Y|                N|\n",
            "|R3QQG4HUB214TM|          5|          111|   Y|                N|\n",
            "|R3J9OSJNJB7KGM|          5|           70|   Y|                N|\n",
            "| RIMYDUAAFXY2U|          5|           22|   Y|                N|\n",
            "|R22CYBPLKWDK6F|          5|           47|   Y|                N|\n",
            "|R1ETBDZ1LJ8CEL|          4|           28|   Y|                N|\n",
            "|R28T5ISQ8AA7E5|          5|           40|   Y|                N|\n",
            "+--------------+-----------+-------------+----+-----------------+\n",
            "only showing top 20 rows\n",
            "\n"
          ],
          "name": "stdout"
        }
      ]
    },
    {
      "cell_type": "code",
      "metadata": {
        "colab": {
          "base_uri": "https://localhost:8080/"
        },
        "id": "QSgwmiqC-qHi",
        "outputId": "ebee3353-cd09-46b0-dcec-43356e341b04"
      },
      "source": [
        "#step4: review was not written as part of the vine program (vine == N)\n",
        "vine_df_unpaid = vine_df_filter2.filter(\"vine == 'N'\")\n",
        "vine_df_unpaid.show()"
      ],
      "execution_count": 8,
      "outputs": [
        {
          "output_type": "stream",
          "text": [
            "+--------------+-----------+-------------+----+-----------------+\n",
            "|     review_id|star_rating|helpful_votes|vine|verified_purchase|\n",
            "+--------------+-----------+-------------+----+-----------------+\n",
            "|R2243Y3OD8U6KQ|          5|           47|   N|                N|\n",
            "|R2TGT0CDTCAAHW|          5|           21|   N|                Y|\n",
            "| RX4D22YSXEF4P|          1|           37|   N|                Y|\n",
            "|R3FL2NTLFUSPTQ|          5|           33|   N|                N|\n",
            "|R3QTP3YNZXAPPF|          3|           23|   N|                Y|\n",
            "|R36V6V42VN5AS5|          5|           34|   N|                Y|\n",
            "|R27LZWE27BJPOB|          5|           22|   N|                N|\n",
            "|R1P7GJ0IN2BRNH|          5|           37|   N|                Y|\n",
            "|R2R6JPF9KOD2HJ|          5|           19|   N|                Y|\n",
            "|R2J0ZZGFXKM8KR|          2|           21|   N|                Y|\n",
            "|R238ZSG6TSUBNX|          5|           27|   N|                Y|\n",
            "| RC6Y8GYIQZ8YU|          3|           72|   N|                Y|\n",
            "| RFL3TJED8C240|          5|           13|   N|                N|\n",
            "|R3D4P7A8Q1C70F|          5|           22|   N|                Y|\n",
            "|R3PRNAQVQBB9M6|          1|           21|   N|                Y|\n",
            "|R2NTTIW5KBKLYG|          5|           19|   N|                N|\n",
            "|R3JNDLZ3KACRLG|          5|           29|   N|                N|\n",
            "|R1PVVYYY0Q1HZ0|          5|           21|   N|                Y|\n",
            "|R1G9N0CW2982PA|          5|           21|   N|                Y|\n",
            "|R2N8ZFHQBWHMDL|          2|           26|   N|                Y|\n",
            "+--------------+-----------+-------------+----+-----------------+\n",
            "only showing top 20 rows\n",
            "\n"
          ],
          "name": "stdout"
        }
      ]
    },
    {
      "cell_type": "code",
      "metadata": {
        "colab": {
          "base_uri": "https://localhost:8080/"
        },
        "id": "w0ShEeVo-tmK",
        "outputId": "431065da-1714-482c-bec2-1d10c557366e"
      },
      "source": [
        "#step5: total number of reviews, the number of 5-star reviews, and the percentage of 5-star reviews for the two types of review (paid vs unpaid).\n",
        "vine_df_paid.describe().show()\n"
      ],
      "execution_count": 9,
      "outputs": [
        {
          "output_type": "stream",
          "text": [
            "+-------+--------------+------------------+------------------+----+-----------------+\n",
            "|summary|     review_id|       star_rating|     helpful_votes|vine|verified_purchase|\n",
            "+-------+--------------+------------------+------------------+----+-----------------+\n",
            "|  count|            60|                60|                60|  60|               60|\n",
            "|   mean|          null| 4.383333333333334| 40.21666666666667|null|             null|\n",
            "| stddev|          null|0.8044719642367519|26.964566621908546|null|             null|\n",
            "|    min|R113X83B4OZYF8|                 2|                14|   Y|                N|\n",
            "|    max| RYW05F1MUEF01|                 5|               146|   Y|                N|\n",
            "+-------+--------------+------------------+------------------+----+-----------------+\n",
            "\n"
          ],
          "name": "stdout"
        }
      ]
    },
    {
      "cell_type": "code",
      "metadata": {
        "colab": {
          "base_uri": "https://localhost:8080/"
        },
        "id": "pi4c0kj9CjaR",
        "outputId": "6ac03b5a-d923-46b1-c7ab-41c1521e8bd5"
      },
      "source": [
        "total_review_paid = vine_df_paid.count()\n",
        "print(total_review_paid)\n",
        "five_star_review_paid = vine_df_paid.filter(\"star_rating == 5\").count()\n",
        "print(five_star_review_paid)\n",
        "percentage_five_star_review_paid = five_star_review_paid/total_review_paid\n",
        "print(percentage_five_star_review_paid)"
      ],
      "execution_count": 10,
      "outputs": [
        {
          "output_type": "stream",
          "text": [
            "60\n",
            "34\n",
            "0.5666666666666667\n"
          ],
          "name": "stdout"
        }
      ]
    },
    {
      "cell_type": "code",
      "metadata": {
        "colab": {
          "base_uri": "https://localhost:8080/"
        },
        "id": "CC_QXWpQA7Ft",
        "outputId": "531502c1-de5c-49d8-8f9d-65899a23fe48"
      },
      "source": [
        "vine_df_unpaid.describe().show()"
      ],
      "execution_count": 11,
      "outputs": [
        {
          "output_type": "stream",
          "text": [
            "+-------+-------------+------------------+-----------------+-----+-----------------+\n",
            "|summary|    review_id|       star_rating|    helpful_votes| vine|verified_purchase|\n",
            "+-------+-------------+------------------+-----------------+-----+-----------------+\n",
            "|  count|        14477|             14477|            14477|14477|            14477|\n",
            "|   mean|         null| 4.056365269047455|47.50183048974235| null|             null|\n",
            "| stddev|         null|1.3469133590849638|90.68383751472832| null|             null|\n",
            "|    min|R101479YHVWJ7|                 1|               10|    N|                N|\n",
            "|    max|RZZU4EG8610O6|                 5|             4709|    N|                Y|\n",
            "+-------+-------------+------------------+-----------------+-----+-----------------+\n",
            "\n"
          ],
          "name": "stdout"
        }
      ]
    },
    {
      "cell_type": "code",
      "metadata": {
        "colab": {
          "base_uri": "https://localhost:8080/"
        },
        "id": "0Ly8xkEUDOWN",
        "outputId": "a8c60126-4ce4-406d-e033-6cb9dff80505"
      },
      "source": [
        "total_review_unpaid = vine_df_unpaid.count()\n",
        "print(total_review_unpaid)\n",
        "five_star_review_unpaid = vine_df_unpaid.filter(\"star_rating == 5\").count()\n",
        "print(five_star_review_unpaid)\n",
        "percentage_five_star_review_unpaid = five_star_review_unpaid/total_review_unpaid\n",
        "print(percentage_five_star_review_unpaid)"
      ],
      "execution_count": 12,
      "outputs": [
        {
          "output_type": "stream",
          "text": [
            "14477\n",
            "8212\n",
            "0.5672445948746287\n"
          ],
          "name": "stdout"
        }
      ]
    }
  ]
}